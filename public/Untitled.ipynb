{
 "cells": [
  {
   "cell_type": "code",
   "execution_count": 40,
   "metadata": {},
   "outputs": [],
   "source": [
    "import json "
   ]
  },
  {
   "cell_type": "code",
   "execution_count": 41,
   "metadata": {},
   "outputs": [],
   "source": [
    "with open('./NYCounties.json') as json_file:\n",
    "    counties = json.load(json_file)"
   ]
  },
  {
   "cell_type": "code",
   "execution_count": 42,
   "metadata": {},
   "outputs": [],
   "source": [
    "with open('./radviz_demographic_data.json') as json_file:\n",
    "    county_names = json.load(json_file)"
   ]
  },
  {
   "cell_type": "code",
   "execution_count": 43,
   "metadata": {},
   "outputs": [],
   "source": [
    "county_names2 = []\n",
    "for point in county_names:\n",
    "    county_names2.append(point['county_name'])"
   ]
  },
  {
   "cell_type": "code",
   "execution_count": 44,
   "metadata": {},
   "outputs": [],
   "source": [
    "county_names = []\n",
    "for feature in counties['features']:\n",
    "    name = feature['properties']['NAMELSAD20']\n",
    "#     id1 = feature['properties']['COUNTYFP20']\n",
    "#     id2 = feature['properties']['COUNTYNS20']\n",
    "#     county_names.append({'name':name, 'id1': id1, 'id2': id2})\n",
    "    county_names.append(feature['properties']['NAMELSAD20'])"
   ]
  },
  {
   "cell_type": "code",
   "execution_count": 45,
   "metadata": {},
   "outputs": [],
   "source": [
    "county_names.sort()\n",
    "county_names2.sort()"
   ]
  },
  {
   "cell_type": "code",
   "execution_count": 46,
   "metadata": {},
   "outputs": [],
   "source": [
    "if len(county_names) != len(county_names2):\n",
    "    print('not the same length')\n",
    "for i in range(0, len(county_names)):\n",
    "    if county_names[i] != county_names2[i]:\n",
    "        print(county_names[i], county_names2[i])"
   ]
  },
  {
   "cell_type": "markdown",
   "metadata": {},
   "source": [
    "### Add color to properties of each feature."
   ]
  },
  {
   "cell_type": "code",
   "execution_count": 47,
   "metadata": {},
   "outputs": [],
   "source": [
    "for county in counties['features']:\n",
    "    prop = county['properties']\n",
    "    prop['color'] = 'hsl(180, 100%, 50%)'\n",
    "    county['properties'] = prop"
   ]
  },
  {
   "cell_type": "code",
   "execution_count": 52,
   "metadata": {},
   "outputs": [],
   "source": [
    "f = open(\"./NYCounties2.json\", \"w\")\n",
    "f.write(str(counties).replace(\"'\", '\"'))\n",
    "f.close()"
   ]
  },
  {
   "cell_type": "code",
   "execution_count": null,
   "metadata": {},
   "outputs": [],
   "source": []
  }
 ],
 "metadata": {
  "kernelspec": {
   "display_name": "Python 3",
   "language": "python",
   "name": "python3"
  },
  "language_info": {
   "codemirror_mode": {
    "name": "ipython",
    "version": 3
   },
   "file_extension": ".py",
   "mimetype": "text/x-python",
   "name": "python",
   "nbconvert_exporter": "python",
   "pygments_lexer": "ipython3",
   "version": "3.8.3"
  }
 },
 "nbformat": 4,
 "nbformat_minor": 4
}
