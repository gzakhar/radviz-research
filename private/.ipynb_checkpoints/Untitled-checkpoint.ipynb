{
 "cells": [
  {
   "cell_type": "code",
   "execution_count": 1,
   "id": "0944899b",
   "metadata": {},
   "outputs": [],
   "source": [
    "import pandas as pd"
   ]
  },
  {
   "cell_type": "code",
   "execution_count": 21,
   "id": "142edb69",
   "metadata": {},
   "outputs": [],
   "source": [
    "data = pd.read_json('./DataCoordinates/radviz_ny_coordinates.json').rename(columns={\"textFloater\": \"id\"}).set_index(\"id\")"
   ]
  },
  {
   "cell_type": "code",
   "execution_count": 30,
   "id": "5fffefa9",
   "metadata": {},
   "outputs": [
    {
     "data": {
      "text/plain": [
       "{'x': -0.223052758095651,\n",
       " 'y': -0.059890543709147,\n",
       " 'angle': 3.403909553307418,\n",
       " 'radius': 0.23095326392985702}"
      ]
     },
     "execution_count": 30,
     "metadata": {},
     "output_type": "execute_result"
    }
   ],
   "source": [
    "data.loc[\"Albany County\"][\"coordinates\"]"
   ]
  },
  {
   "cell_type": "code",
   "execution_count": 43,
   "id": "0bb1af55",
   "metadata": {},
   "outputs": [],
   "source": [
    "def get_coordinates(county):\n",
    "    return data.loc[county]['coordinates']"
   ]
  },
  {
   "cell_type": "code",
   "execution_count": null,
   "id": "99197eb8",
   "metadata": {},
   "outputs": [],
   "source": []
  },
  {
   "cell_type": "code",
   "execution_count": 48,
   "id": "d942eb40",
   "metadata": {},
   "outputs": [],
   "source": [
    "class CS():\n",
    "    \n",
    "    def __init__(self, path):\n",
    "        self.data = data = pd.read_json(path).rename(columns={\"textFloater\": \"id\"}).set_index(\"id\")\n",
    "        \n",
    "        \n",
    "    def get_counties():\n",
    "        ret = []\n",
    "        for id, row in self.data.iterrows:\n",
    "            ret.append(id)\n",
    "        return ret\n",
    "    "
   ]
  },
  {
   "cell_type": "code",
   "execution_count": 49,
   "id": "ebe22393",
   "metadata": {},
   "outputs": [],
   "source": [
    "cs = CS('./DataCoordinates/radviz_ny_coordinates.json')"
   ]
  },
  {
   "cell_type": "code",
   "execution_count": null,
   "id": "42b060be",
   "metadata": {},
   "outputs": [],
   "source": []
  },
  {
   "cell_type": "code",
   "execution_count": null,
   "id": "9467bc51",
   "metadata": {},
   "outputs": [],
   "source": []
  }
 ],
 "metadata": {
  "kernelspec": {
   "display_name": "Python 3 (ipykernel)",
   "language": "python",
   "name": "python3"
  },
  "language_info": {
   "codemirror_mode": {
    "name": "ipython",
    "version": 3
   },
   "file_extension": ".py",
   "mimetype": "text/x-python",
   "name": "python",
   "nbconvert_exporter": "python",
   "pygments_lexer": "ipython3",
   "version": "3.9.7"
  }
 },
 "nbformat": 4,
 "nbformat_minor": 5
}
