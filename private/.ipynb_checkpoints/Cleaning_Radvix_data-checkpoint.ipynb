{
 "cells": [
  {
   "cell_type": "markdown",
   "metadata": {},
   "source": [
    "### Data used in this notebook.\n",
    "1. [Age groups by county level.](https://www.census.gov/data/tables/time-series/demo/popest/2010s-counties-detail.html)\n",
    "    * First table provides a list of states for each there is a county level breakdown of the age median.\n",
    "    \n",
    "    \n",
    "2. [Race ratio by county level.](https://www.census.gov/data/tables/time-series/demo/popest/2010s-counties-detail.html)\n",
    "    * Second table provides a list of states for each there is a county level breakdown of the races living in that are.\n",
    "    \n",
    "    \n",
    "3. [Personal income county level.](https://apps.bea.gov/itable/iTable.cfm?ReqID=70&step=1&acrdn=5)\n",
    "    * On the dropdown select \"Personal Income and Employemnt by County and Metropolitan area\".\n",
    "    * Select \"Personal Income and Imployment by Major Component\".\n",
    "    * Select \"County\" under Major Area.\n",
    "    * Select \"All Counties in the US\" under States, or by go by state.\n",
    "    * Select \"All Statistics in tables.\" under Area and Statistics.\n",
    "    * Download table.\n"
   ]
  },
  {
   "cell_type": "code",
   "execution_count": 1,
   "metadata": {},
   "outputs": [],
   "source": [
    "import pandas as pd\n",
    "import plotly.express as px\n",
    "import json"
   ]
  },
  {
   "cell_type": "markdown",
   "metadata": {},
   "source": [
    "## Age median per county."
   ]
  },
  {
   "cell_type": "markdown",
   "metadata": {},
   "source": [
    "1 = 4/1/2010 Census population\\\n",
    "2 = 4/1/2010 population estimates base\\\n",
    "3 = 7/1/2010 population estimate\\\n",
    "4 = 7/1/2011 population estimate\\\n",
    "5 = 7/1/2012 population estimate\\\n",
    "6 = 7/1/2013 population estimate\\\n",
    "7 = 7/1/2014 population estimate\\\n",
    "8 = 7/1/2015 population estimate\\\n",
    "9 = 7/1/2016 population estimate\\\n",
    "10 = 7/1/2017 population estimate\\\n",
    "11 = 7/1/2018 population estimate\\\n",
    "12 = 7/1/2019 population estimate"
   ]
  },
  {
   "cell_type": "code",
   "execution_count": null,
   "metadata": {},
   "outputs": [],
   "source": [
    "def get_age_median(file, attr=['MEDIAN_AGE_TOT'], year=12):\n",
    "    \"\"\"\n",
    "    Given a file from first bullet point \"age groups by county level\" formats it into dataframe.\n",
    "    \n",
    "    Arguments:\n",
    "        - file: str (filename).\n",
    "        - attr: list (list of column names default being the age median).\n",
    "        - year: int (year id, refure to the string above that lists the ids).\n",
    "        \n",
    "    Return:\n",
    "        Pandas DataFrame\n",
    "    \"\"\"\n",
    "    \n",
    "    raw_age_data = pd.read_csv(file)\n",
    "    age_median_2019 = raw_age_data[raw_age_data['YEAR'] == 12]\n",
    "    ny_state_age_median = age_median_2019[[\"STNAME\", \"CTYNAME\", *attr]]\n",
    "    ny_state_age_median = ny_state_age_median.reset_index(drop=True)\n",
    "    \n",
    "    return ny_state_age_median"
   ]
  },
  {
   "cell_type": "markdown",
   "metadata": {},
   "source": [
    "## Demographics per county."
   ]
  },
  {
   "cell_type": "code",
   "execution_count": null,
   "metadata": {},
   "outputs": [],
   "source": [
    "def get_white_ratio(file, attr=['WA_MALE', 'WA_FEMALE'], year=12):\n",
    "    \"\"\"\n",
    "    Given a file from second bullet point \"Race ratio by county level\" formats it into dataframe.\n",
    "    \n",
    "    Arguments:\n",
    "        - file: str (filename).\n",
    "        - attr: list (list of column names default being total white male and female).\n",
    "        - year: int (year id, refure to the string above that lists the ids).\n",
    "        \n",
    "    Return:\n",
    "        Pandas DataFrame\n",
    "    \"\"\"\n",
    "    \n",
    "    raw_all_data = pd.read_csv(file)\n",
    "    raw_all_data = raw_all_data[raw_all_data['AGEGRP']==0]\n",
    "    raw_all_data = raw_all_data[raw_all_data['YEAR']==year]\n",
    "    raw_all_data['selected'] = raw_all_data[attr[0]]\n",
    "    for col in attr[1:]:\n",
    "        raw_all_data['selected'] = raw_all_data['selected'] + raw_all_data[col]\n",
    "\n",
    "    raw_all_data['RATIO'] = raw_all_data['selected'] / raw_all_data['TOT_POP']\n",
    "    result = raw_all_data[['STNAME', 'CTYNAME','RATIO']]\n",
    "    result = result.reset_index(drop=True)\n",
    "    \n",
    "    return result"
   ]
  },
  {
   "cell_type": "markdown",
   "metadata": {},
   "source": [
    "## Income per county."
   ]
  },
  {
   "cell_type": "markdown",
   "metadata": {},
   "source": [
    "1 - Personal income (thousands of dollars)\\\n",
    "2 - Population (persons)\\\n",
    "3 - Per capita personal income (dollars)"
   ]
  },
  {
   "cell_type": "code",
   "execution_count": null,
   "metadata": {},
   "outputs": [],
   "source": [
    "def get_income_per_person(file):\n",
    "    \"\"\"\n",
    "    Given a file from second bullet point \"Race ratio by county level\" formats it into dataframe.\n",
    "    \n",
    "    Arguments:\n",
    "        - file: str (filename).\n",
    "        - attr: list (list of column names default being total white male and female).\n",
    "        - year: int (year id, refure to the string above that lists the ids).\n",
    "        \n",
    "    Return:\n",
    "        Pandas DataFrame\n",
    "    \"\"\"\n",
    "    \n",
    "    raw_all_data = pd.read_csv(file)\n",
    "    raw_all_data = raw_all_data[raw_all_data['LineCode']==3]\n",
    "    result = raw_all_data[['GeoName', '2019']]\n",
    "    result = result.iloc[1: , :]\n",
    "    result = result.reset_index(drop=True)\n",
    "    \n",
    "    return result"
   ]
  },
  {
   "cell_type": "markdown",
   "metadata": {},
   "source": [
    "## Visualizing data."
   ]
  },
  {
   "cell_type": "code",
   "execution_count": null,
   "metadata": {},
   "outputs": [],
   "source": [
    "age_data = get_age_median('./cc-est2019-agesex-36.csv')\n",
    "white_ratio = get_white_ratio('./cc-est2019-alldata-36.csv', ['WA_MALE', 'WA_FEMALE'], 12)\n",
    "income_per_capita = get_income_per_person('./CAINC1_Personal_Income_Summary.csv')"
   ]
  },
  {
   "cell_type": "code",
   "execution_count": null,
   "metadata": {},
   "outputs": [],
   "source": [
    "fig = px.histogram(age_data, x='CTYNAME', y='MEDIAN_AGE_TOT', labels={'CTYNAME': 'County', 'MEDIAN_AGE_TOT': 'Median Age'})\n",
    "fig.show()"
   ]
  },
  {
   "cell_type": "code",
   "execution_count": null,
   "metadata": {},
   "outputs": [],
   "source": [
    "fig = px.histogram(white_ratio, x='CTYNAME', y='RATIO', labels={'CTYNAME':'County', 'RATIO': \"Ration white/total\"})\n",
    "fig.show()"
   ]
  },
  {
   "cell_type": "code",
   "execution_count": null,
   "metadata": {},
   "outputs": [],
   "source": [
    "fig = px.histogram(income_per_capita, x='GeoName', y = '2019', labels={'GeoName': 'County', '2019': 'income_per_capita'})\n",
    "fig.update_xaxes(\n",
    "    showgrid=True,\n",
    "    tickson=\"boundaries\",\n",
    "    ticklen=20\n",
    ")\n",
    "fig.show()"
   ]
  },
  {
   "cell_type": "markdown",
   "metadata": {},
   "source": [
    "## Radviz Data"
   ]
  },
  {
   "cell_type": "code",
   "execution_count": null,
   "metadata": {},
   "outputs": [],
   "source": [
    "def create_radviz_data(base_file, age_file, ratio_file, income_file):\n",
    "    age_data = get_age_median(f\"{base_file}/{age_file}\")\n",
    "    white_ratio = get_white_ratio(f\"{base_file}/{ratio_file}\", ['WA_MALE', 'WA_FEMALE'], 12)\n",
    "    income_per_capita = get_income_per_person(f\"{base_file}/{income_file}\")\n",
    "    \n",
    "    radviz_data = pd.DataFrame(columns=['county_name', 'age_median', 'white_ratio', 'income_per_capita'])\n",
    "    \n",
    "    radviz_data['county_name'] = age_data['CTYNAME']\n",
    "    radviz_data['age_median'] = age_data['MEDIAN_AGE_TOT']\n",
    "    radviz_data['white_ratio'] = white_ratio['RATIO']\n",
    "    radviz_data['income_per_capita'] = income_per_capita['2019']\n",
    "    \n",
    "    return radviz_data.to_json(orient='records')"
   ]
  },
  {
   "cell_type": "code",
   "execution_count": null,
   "metadata": {
    "scrolled": false
   },
   "outputs": [],
   "source": [
    "AGE_FILE = 'cc-est2019-agesex-34.csv'\n",
    "RATIO_FILE = 'cc-est2019-alldata-34.csv'\n",
    "INCOME_FILE = 'income.csv'\n",
    "\n",
    "radviz_data = create_radviz_data('./NJ', AGE_FILE, RATIO_FILE, INCOME_FILE)"
   ]
  },
  {
   "cell_type": "markdown",
   "metadata": {},
   "source": [
    "## GeoJson Data"
   ]
  },
  {
   "cell_type": "code",
   "execution_count": 43,
   "metadata": {
    "scrolled": false
   },
   "outputs": [],
   "source": [
    "def reformat_geojson(file, out_file, possibleNames = ['namelsad', 'NAMELSAD20']):\n",
    "    \n",
    "    f = open(file)\n",
    "    geojson = json.load(f)\n",
    "    f.close()\n",
    "    \n",
    "    for i in range(len(geojson['features'])):\n",
    "        for k in geojson['features'][i]['properties'].keys():\n",
    "            if k in possibleNames:\n",
    "                county_name = geojson['features'][i]['properties'][k]\n",
    "                geojson['features'][i]['properties']['county_name'] = county_name\n",
    "                break\n",
    "\n",
    "    f = open(out_file, 'x')\n",
    "    f.write(json.dumps(geojson))\n",
    "    f.close()"
   ]
  },
  {
   "cell_type": "code",
   "execution_count": 44,
   "metadata": {},
   "outputs": [],
   "source": [
    "# reformat_geojson('/Users/gzakhar/Desktop/Research/Mueller/testing/public/nyGeo.json', '/Users/gzakhar/Desktop/Research/Mueller/testing/public/nyGeoCOPY.json')"
   ]
  }
 ],
 "metadata": {
  "kernelspec": {
   "display_name": "Python 3 (ipykernel)",
   "language": "python",
   "name": "python3"
  },
  "language_info": {
   "codemirror_mode": {
    "name": "ipython",
    "version": 3
   },
   "file_extension": ".py",
   "mimetype": "text/x-python",
   "name": "python",
   "nbconvert_exporter": "python",
   "pygments_lexer": "ipython3",
   "version": "3.9.7"
  }
 },
 "nbformat": 4,
 "nbformat_minor": 4
}
