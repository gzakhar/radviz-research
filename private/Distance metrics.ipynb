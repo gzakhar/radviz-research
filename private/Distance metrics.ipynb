{
 "cells": [
  {
   "cell_type": "code",
   "execution_count": 5,
   "id": "3435308f",
   "metadata": {},
   "outputs": [],
   "source": [
    "import pandas as pd\n",
    "import numpy as np\n",
    "import matplotlib.pyplot as plt\n",
    "import json\n",
    "import math\n",
    "import pdb\n",
    "b = pdb.set_trace"
   ]
  },
  {
   "cell_type": "code",
   "execution_count": null,
   "id": "97b171d8",
   "metadata": {},
   "outputs": [],
   "source": [
    "df = pd.read_json('./DataCoordinates/ny_coordinates.json')\n",
    "coordinates = json.loads(json.dumps(df[\"coordinates\"].tolist()))"
   ]
  },
  {
   "cell_type": "code",
   "execution_count": null,
   "id": "f49e7a0a",
   "metadata": {},
   "outputs": [],
   "source": [
    "x = list(map(lambda x: x[\"x\"], coordinates))\n",
    "y = list(map(lambda x: x[\"y\"], coordinates))\n",
    "\n",
    "data = np.array([x, y])\n",
    "plt.scatter(x=data[0, :], y=data[1, :])\n",
    "plt.show()"
   ]
  },
  {
   "cell_type": "code",
   "execution_count": 93,
   "id": "0aa4e6dc",
   "metadata": {},
   "outputs": [],
   "source": [
    "def euclidian_distance(p1, p2, r=3, **kwargs):\n",
    "    return round(math.sqrt((p1[0]-p2[0])**2 + (p1[1]-p2[1])**2), r)"
   ]
  },
  {
   "cell_type": "code",
   "execution_count": 66,
   "id": "c612b36a",
   "metadata": {},
   "outputs": [],
   "source": [
    "def mahalanobis_distance(p1, p2, r=4, cov=None):\n",
    "\n",
    "    \n",
    "#     if not cov:\n",
    "#         raise Exception(\"Covariance must be provided when computing mahalanobis.\")\n",
    "    if p1.T.shape[1] != cov.shape[0] or cov.shape[1] != p2.shape[0]:\n",
    "        raise Exception(\"shapes of points are not correct.\")\n",
    "\n",
    "    f = (p1-p2).T\n",
    "    cov_inv = np.linalg.inv(cov)\n",
    "    left = np.matmul(f, cov_inv)\n",
    "    s = (p1-p2)\n",
    "    res = np.matmul(left, s)\n",
    "    \n",
    "    return round(math.sqrt(res.squeeze()), r)\n"
   ]
  },
  {
   "cell_type": "code",
   "execution_count": 59,
   "id": "15d3e49b",
   "metadata": {},
   "outputs": [],
   "source": [
    "def distance_matrix(data, dist_func):\n",
    "    \n",
    "    \"\"\"\n",
    "    General function to compute the distance matric.\n",
    "    \n",
    "    Arguments:\n",
    "        data - must be nXm shape numpy array with n being the number of dimensions,\n",
    "    and m being the number of records.\n",
    "        dist_func - must be a disntace function. (euclidean, mahalanobis)\n",
    "    \n",
    "    return:\n",
    "        a mXm matric of distances.\n",
    "    \"\"\"\n",
    "    \n",
    "    res = []\n",
    "    for i in range(len(data[0])):\n",
    "        row = []\n",
    "        for j in range(len(data[0])):\n",
    "            p1 = np.array([[*data[:, i]]]).T\n",
    "            p2 = np.array([[*data[:, j]]]).T\n",
    "            cov = np.cov(data)\n",
    "            row.append(dist_func(p1, p2, cov=cov))\n",
    "        res.append(row)\n",
    "    return res"
   ]
  },
  {
   "cell_type": "code",
   "execution_count": 95,
   "id": "021ded3c",
   "metadata": {},
   "outputs": [],
   "source": [
    "metadata = {\n",
    "    \"CA\": {\n",
    "        \"graph\": \"radviz\",\n",
    "        \"responces\": './Responses/Radviz Survey (Responses).csv',\n",
    "        \"point_coordinates\": './DataCoordinates/ca_coordinates.json',\n",
    "        \"state_data\": '../public/radvizData/caDem.json',\n",
    "    },\n",
    "    \"NY\": {\n",
    "        \"graph\": \"sradviz\",\n",
    "        \"responces\": './Responses/S-Radviz Survey (Responses).csv',\n",
    "        \"point_coordinates\": './DataCoordinates/ny_coordinates.json',\n",
    "        \"state_data\": '../public/radvizData/nyDem.json',\n",
    "    }\n",
    "}\n",
    "cached_state_attribute_df = {\"NY\": {}, \"CA\": {}}\n",
    "cached_distance_matrix = {\"NY\": None, \"CA\": None}\n",
    "questions = [ {\"q\": \"Find the RICHEST county (highest income per capita).\", \"attr\": \"income_per_capita\", \"target\": \"max\"}\n",
    "            , {\"q\":\"Find the POOREST county (lowest income per capita).\", \"attr\": \"income_per_capita\", \"target\": \"min\"}\n",
    "            , {\"q\":\"Find the OLDEST county (highest age median).\", \"attr\": \"age_median\", \"target\": \"max\"}\n",
    "            , {\"q\":\"Find the YOUNGEST county (lowest age median).\", \"attr\": \"age_median\", \"target\": \"min\"}\n",
    "            , {\"q\":\"Find the WHITEST county (highest white ratio).\", \"attr\": \"white_ratio\", \"target\": \"max\"}\n",
    "            , {\"q\":\"Find the most RACIALLY DIVERSE county (lowest white ratio).\", \"attr\": \"white_ratio\", \"target\": \"min\"}\n",
    "#             , {\"q\":\"Find the OVERALL MOST AVERAGE county (a county that is most average by some/all criteria).\", \"attr\": base_df[2], \"target\": True}\n",
    "#             , {\"q\":\"Find the OVERALL MOST OUTLYING county (a county that is least average by some/all criteria).\", \"attr\": base_df[2], \"target\": True}\n",
    "            ]"
   ]
  },
  {
   "cell_type": "code",
   "execution_count": 96,
   "id": "22a4936c",
   "metadata": {},
   "outputs": [
    {
     "data": {
      "image/png": "[encoded data removed]",
      "text/plain": [
       "<Figure size 800x640 with 1 Axes>"
      ]
     },
     "metadata": {
      "needs_background": "light"
     },
     "output_type": "display_data"
    }
   ],
   "source": [
    "# Define Data\n",
    "quest = list(map(lambda x: x[\"q\"], questions))\n",
    "x_axis = np.arange(len(quest))\n",
    "offset = -0.2\n",
    "\n",
    "# Add size\n",
    "plt.figure(figsize=(10, 8), dpi=80)\n",
    "\n",
    "for state in metadata.keys():\n",
    "    responses = pd.read_csv(metadata[state][\"responces\"])\n",
    "    df = pd.read_json(metadata[state]['point_coordinates'])\n",
    "    county_to_index_map = lambda county_name: df['textFloater'].to_list().index(county_name)\n",
    "    coordinates = json.loads(json.dumps(df[\"coordinates\"].tolist()))\n",
    "    x = list(map(lambda x: x[\"x\"], coordinates))\n",
    "    y = list(map(lambda x: x[\"y\"], coordinates))\n",
    "    data = np.array([x, y])\n",
    "    \n",
    "    # Constructing distance_matrix\n",
    "    construct_distance_matrix(state, data)\n",
    "    \n",
    "    g_data = apply_func(responses, get_distance, state)[list(map(lambda x: x[\"q\"], questions))].mean(axis=0).values\n",
    "    \n",
    "    # Multi bar Chart\n",
    "    plt.bar(x_axis + offset, g_data, width=0.4, label = metadata[state]['graph'])\n",
    "    offset += 0.4\n",
    "    \n",
    "# Xticks\n",
    "lebels = []\n",
    "for q in quest:\n",
    "    start = 9\n",
    "    end = q.index(\"(\") - len(\"county  \")\n",
    "    lebels.append(q[start:end])\n",
    "plt.xticks(x_axis, lebels)\n",
    "\n",
    "# Add legend\n",
    "plt.legend()\n",
    "\n",
    "# Display\n",
    "plt.show()"
   ]
  },
  {
   "cell_type": "code",
   "execution_count": 50,
   "id": "ff9bf010",
   "metadata": {},
   "outputs": [],
   "source": [
    "def get_distance(selected, target, distance_matrix):\n",
    "    selected_index = county_to_index_map(selected)\n",
    "    target_index = county_to_index_map(target)\n",
    "    \n",
    "    return distance_matrix[selected_index][target_index]"
   ]
  },
  {
   "cell_type": "code",
   "execution_count": 71,
   "id": "b5c6d737",
   "metadata": {},
   "outputs": [],
   "source": [
    "def get_cached_distance_matrix(state):\n",
    "    if not cached_distance_matrix[state]:\n",
    "        raise Exception(\"distance_matrix has not been constructed.\")\n",
    "        \n",
    "    return cached_distance_matrix[state]"
   ]
  },
  {
   "cell_type": "code",
   "execution_count": 94,
   "id": "1039b09a",
   "metadata": {},
   "outputs": [],
   "source": [
    "def construct_distance_matrix(state, data):\n",
    "    cached_distance_matrix[state] = distance_matrix(data, euclidian_distance)"
   ]
  },
  {
   "cell_type": "code",
   "execution_count": 73,
   "id": "4488eec4",
   "metadata": {},
   "outputs": [],
   "source": [
    "def apply_func(df, func, state):\n",
    "    res = df.copy(deep=True)\n",
    "    for q in questions:\n",
    "        ques = q[\"q\"]\n",
    "        distance_matrix = get_cached_distance_matrix(state)\n",
    "        base = get_cached_df(state, q['attr'])\n",
    "        \n",
    "        if q[\"target\"] == \"max\":\n",
    "            target = base.tail(1).values[0][0]\n",
    "        elif q[\"target\"] == \"min\":\n",
    "            target = base.head(1).values[0][0]\n",
    "        res[ques] = df[ques].apply(lambda selected: func(selected, target, distance_matrix))\n",
    "    return res"
   ]
  },
  {
   "cell_type": "code",
   "execution_count": 75,
   "id": "f626d39e",
   "metadata": {},
   "outputs": [],
   "source": [
    "def get_cached_df(state, attr):\n",
    "    if attr not in cached_state_attribute_df[state].keys():\n",
    "        df = pd.read_json(metadata[state][\"state_data\"])\n",
    "        cached_state_attribute_df[state][attr] = create_sorted_attribute_df(df, attr)\n",
    "        \n",
    "    return cached_state_attribute_df[state][attr]"
   ]
  },
  {
   "cell_type": "code",
   "execution_count": 80,
   "id": "79cf7584",
   "metadata": {},
   "outputs": [],
   "source": [
    "def create_sorted_attribute_df(original_df, attribute):\n",
    "    return original_df.sort_values(attribute, ignore_index=True)[[\"county_name\", attribute]]"
   ]
  }
 ],
 "metadata": {
  "kernelspec": {
   "display_name": "Python 3 (ipykernel)",
   "language": "python",
   "name": "python3"
  },
  "language_info": {
   "codemirror_mode": {
    "name": "ipython",
    "version": 3
   },
   "file_extension": ".py",
   "mimetype": "text/x-python",
   "name": "python",
   "nbconvert_exporter": "python",
   "pygments_lexer": "ipython3",
   "version": "3.9.7"
  }
 },
 "nbformat": 4,
 "nbformat_minor": 5
}
