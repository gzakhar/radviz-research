{
 "cells": [
  {
   "cell_type": "code",
   "execution_count": 1,
   "id": "8699621e",
   "metadata": {},
   "outputs": [],
   "source": [
    "import json \n",
    "import numpy as np \n",
    "import pandas as pd\n",
    "import plotly.express as px\n",
    "import pdb\n",
    "b = pdb.set_trace\n",
    "class MyException(Exception):\n",
    "    pass"
   ]
  },
  {
   "cell_type": "code",
   "execution_count": 9,
   "id": "ab8bcfa3",
   "metadata": {},
   "outputs": [],
   "source": [
    "# Helper functions.\n",
    "state_df = pd.read_json('../public/radvizData/caDem.json')\n",
    "\n",
    "get_score_from_choice_df = lambda t: t.values[0][1]\n",
    "\n",
    "def create_sorted_attribute_df(original_df, attribute):\n",
    "    return original_df.sort_values(attribute, ignore_index=True)[[\"county_name\", attribute]]\n",
    "\n",
    "def apply_func(df, func, state):\n",
    "    res = df.copy(deep=True)\n",
    "    for q in questions:\n",
    "        ques = q[\"q\"]\n",
    "        base = get_base_df(state, q['attr'])\n",
    "        \n",
    "        if q[\"target\"] == \"max\":\n",
    "            target = base.tail(1).values[0][0]\n",
    "        elif q[\"target\"] == \"min\":\n",
    "            target = base.head(1).values[0][0]\n",
    "        res[ques] = df[ques].apply(lambda x: func(base, x, target))\n",
    "    return res\n",
    "\n",
    "def get_base_df(state, attr):\n",
    "    if attr not in base_df[state].keys():\n",
    "        df = pd.read_json(metadata[state][\"state_data\"])\n",
    "        base_df[state][attr] = create_sorted_attribute_df(df, attr)\n",
    "        \n",
    "    return base_df[state][attr]"
   ]
  },
  {
   "cell_type": "code",
   "execution_count": 3,
   "id": "70206e8c",
   "metadata": {},
   "outputs": [],
   "source": [
    "def get_accuracy(choice_df, selected, target):\n",
    "\n",
    "    \"\"\"\n",
    "    Given all possible answers tuples, the choosen answer, and the target answer.\n",
    "    Calculate accuracy.\n",
    "    \n",
    "    abs(selected - target) / (max - min)\n",
    "    \n",
    "    Arguments:\n",
    "        choise_df: all possible answers and their scores.\n",
    "        selected: user selected choice.\n",
    "        target: the corrent answer.\n",
    "    \"\"\"\n",
    "\n",
    "    length_of_choices = len(choice_df)\n",
    "    if length_of_choices < 2:\n",
    "        raise MyException(\"Cannot be just one choice.\")\n",
    "    \n",
    "    minval = get_score_from_choice_df(choice_df.head(1))\n",
    "    maxval = get_score_from_choice_df(choice_df.tail(1))\n",
    "    \n",
    "    selected_score = get_score_from_choice_df(choice_df[choice_df[\"county_name\"] == selected])\n",
    "    target_score = get_score_from_choice_df(choice_df[choice_df[\"county_name\"] == target])\n",
    "    \n",
    "    score = 1 - abs(selected_score - target_score) / (maxval - minval)\n",
    "    \n",
    "    if score > 1 or score < 0:\n",
    "        raise MyException(\"Score should be between 0 and 1 inclusive.\")\n",
    "        \n",
    "    return score"
   ]
  },
  {
   "cell_type": "code",
   "execution_count": 4,
   "id": "d4f55cf7",
   "metadata": {},
   "outputs": [],
   "source": [
    "def get_correctness(choise_df, selected, target):\n",
    "    \n",
    "    \"\"\"\n",
    "    Given all possible answers tuples, the choosen answer, and the target answer.\n",
    "    Calculate accuracy.\n",
    "    \n",
    "    abs(index(selected) - index(target)) / (length - 1)\n",
    "    \n",
    "    Arguments:\n",
    "        choise_df: a dataframe to server as context for comparison of target and selected.\n",
    "        selected: user selected choice.\n",
    "        target: the corrent answer.\n",
    "    \"\"\"\n",
    "    \n",
    "    length = len(choise_df) - 1\n",
    "\n",
    "    try:\n",
    "        index_of_selected = choise_df.index[choise_df[\"county_name\"] == selected].values[0]\n",
    "        index_of_target = choise_df.index[choise_df[\"county_name\"] == target].values[0]\n",
    "    except IndexError:\n",
    "        print(selected, target)\n",
    "        \n",
    "    score = 1 - (abs(index_of_selected - index_of_target) / length)\n",
    "    \n",
    "    if score > 1 or score < 0:\n",
    "        raise MyException(\"Score should be between 0 and 1 inclusive.\")\n",
    "    \n",
    "    return score\n",
    "    \n",
    "    "
   ]
  },
  {
   "cell_type": "markdown",
   "id": "44b1b543",
   "metadata": {},
   "source": [
    "## Metadata for quiz analysis."
   ]
  },
  {
   "cell_type": "code",
   "execution_count": 8,
   "id": "95926c56",
   "metadata": {},
   "outputs": [],
   "source": [
    "attributes = ['age_median', 'white_ratio', 'income_per_capita']\n",
    "base_df = {\"NY\": {}, \"CA\": {}}\n",
    "questions = [ {\"q\": \"Find the RICHEST county (highest income per capita).\", \"attr\": \"income_per_capita\", \"target\": \"max\"}\n",
    "            , {\"q\":\"Find the POOREST county (lowest income per capita).\", \"attr\": \"income_per_capita\", \"target\": \"min\"}\n",
    "            , {\"q\":\"Find the OLDEST county (highest age median).\", \"attr\": \"age_median\", \"target\": \"max\"}\n",
    "            , {\"q\":\"Find the YOUNGEST county (lowest age median).\", \"attr\": \"age_median\", \"target\": \"min\"}\n",
    "            , {\"q\":\"Find the WHITEST county (highest white ratio).\", \"attr\": \"white_ratio\", \"target\": \"max\"}\n",
    "            , {\"q\":\"Find the most RACIALLY DIVERSE county (lowest white ratio).\", \"attr\": \"white_ratio\", \"target\": \"min\"}\n",
    "#             , {\"q\":\"Find the OVERALL MOST AVERAGE county (a county that is most average by some/all criteria).\", \"attr\": base_df[2], \"target\": True}\n",
    "#             , {\"q\":\"Find the OVERALL MOST OUTLYING county (a county that is least average by some/all criteria).\", \"attr\": base_df[2], \"target\": True}\n",
    "            ]"
   ]
  },
  {
   "cell_type": "code",
   "execution_count": 12,
   "id": "c540e97c",
   "metadata": {},
   "outputs": [],
   "source": [
    "metadata = {\n",
    "    \"CA\": {\n",
    "        \"graph\": \"radviz\",\n",
    "        \"responces\": './Responses/Radviz Survey (Responses).csv',\n",
    "        \"state_data\": '../public/radvizData/caDem.json',\n",
    "    },\n",
    "    \"NY\": {\n",
    "        \"graph\": \"sradviz\",\n",
    "        \"responces\": './Responses/S-Radviz Survey (Responses).csv',\n",
    "        \"state_data\": '../public/radvizData/nyDem.json',\n",
    "    }\n",
    "}"
   ]
  },
  {
   "cell_type": "code",
   "execution_count": 37,
   "id": "1429cfeb",
   "metadata": {},
   "outputs": [
    {
     "data": {
      "image/png": "[encoded data removed]",
      "text/plain": [
       "<Figure size 800x640 with 1 Axes>"
      ]
     },
     "metadata": {
      "needs_background": "light"
     },
     "output_type": "display_data"
    }
   ],
   "source": [
    "# Import Library\n",
    "\n",
    "import numpy as np \n",
    "import matplotlib.pyplot as plt\n",
    "\n",
    "\n",
    "# Define Data\n",
    "quest = list(map(lambda x: x[\"q\"], questions))\n",
    "x_axis = np.arange(len(quest))\n",
    "offset = -0.2\n",
    "\n",
    "# Add size\n",
    "plt.figure(figsize=(10, 8), dpi=80)\n",
    "\n",
    "for state in metadata.keys():\n",
    "\n",
    "    responses = pd.read_csv(metadata[state][\"responces\"])\n",
    "\n",
    "    g_data = apply_func(responses, get_correctness, state)[list(map(lambda x: x[\"q\"], questions))].mean(axis=0).values\n",
    "\n",
    "    # Multi bar Chart\n",
    "    plt.bar(x_axis + offset, g_data, width=0.4, label = metadata[state]['graph'])\n",
    "    offset += 0.4\n",
    "    \n",
    "# Xticks\n",
    "lebels = []\n",
    "for q in quest:\n",
    "    start = 9\n",
    "    end = q.index(\"(\") - len(\"county  \")\n",
    "    lebels.append(q[start:end])\n",
    "plt.xticks(x_axis, lebels)\n",
    "\n",
    "# Add legend\n",
    "plt.legend()\n",
    "\n",
    "# Display\n",
    "plt.show()"
   ]
  },
  {
   "cell_type": "code",
   "execution_count": null,
   "id": "da2a359e",
   "metadata": {},
   "outputs": [],
   "source": []
  },
  {
   "cell_type": "code",
   "execution_count": null,
   "id": "4a8dc3fa",
   "metadata": {},
   "outputs": [],
   "source": []
  },
  {
   "cell_type": "code",
   "execution_count": null,
   "id": "3f33bbab",
   "metadata": {},
   "outputs": [],
   "source": []
  }
 ],
 "metadata": {
  "kernelspec": {
   "display_name": "Python 3 (ipykernel)",
   "language": "python",
   "name": "python3"
  },
  "language_info": {
   "codemirror_mode": {
    "name": "ipython",
    "version": 3
   },
   "file_extension": ".py",
   "mimetype": "text/x-python",
   "name": "python",
   "nbconvert_exporter": "python",
   "pygments_lexer": "ipython3",
   "version": "3.9.7"
  }
 },
 "nbformat": 4,
 "nbformat_minor": 5
}
