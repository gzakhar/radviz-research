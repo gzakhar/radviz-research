{
 "cells": [
  {
   "cell_type": "code",
   "execution_count": 2,
   "metadata": {},
   "outputs": [],
   "source": [
    "import json \n",
    "import pandas as pd\n",
    "import matplotlib.pyplot as plt"
   ]
  },
  {
   "cell_type": "code",
   "execution_count": 41,
   "metadata": {},
   "outputs": [],
   "source": [
    "with open('./NYCounties.json') as json_file:\n",
    "    counties = json.load(json_file)"
   ]
  },
  {
   "cell_type": "code",
   "execution_count": 42,
   "metadata": {},
   "outputs": [],
   "source": [
    "with open('./radviz_demographic_data.json') as json_file:\n",
    "    county_names = json.load(json_file)"
   ]
  },
  {
   "cell_type": "code",
   "execution_count": 43,
   "metadata": {},
   "outputs": [],
   "source": [
    "county_names2 = []\n",
    "for point in county_names:\n",
    "    county_names2.append(point['county_name'])"
   ]
  },
  {
   "cell_type": "code",
   "execution_count": 44,
   "metadata": {},
   "outputs": [],
   "source": [
    "county_names = []\n",
    "for feature in counties['features']:\n",
    "    name = feature['properties']['NAMELSAD20']\n",
    "#     id1 = feature['properties']['COUNTYFP20']\n",
    "#     id2 = feature['properties']['COUNTYNS20']\n",
    "#     county_names.append({'name':name, 'id1': id1, 'id2': id2})\n",
    "    county_names.append(feature['properties']['NAMELSAD20'])"
   ]
  },
  {
   "cell_type": "code",
   "execution_count": 45,
   "metadata": {},
   "outputs": [],
   "source": [
    "county_names.sort()\n",
    "county_names2.sort()"
   ]
  },
  {
   "cell_type": "code",
   "execution_count": 46,
   "metadata": {},
   "outputs": [],
   "source": [
    "if len(county_names) != len(county_names2):\n",
    "    print('not the same length')\n",
    "for i in range(0, len(county_names)):\n",
    "    if county_names[i] != county_names2[i]:\n",
    "        print(county_names[i], county_names2[i])"
   ]
  },
  {
   "cell_type": "markdown",
   "metadata": {},
   "source": [
    "### Add color to properties of each feature."
   ]
  },
  {
   "cell_type": "code",
   "execution_count": 47,
   "metadata": {},
   "outputs": [],
   "source": [
    "for county in counties['features']:\n",
    "    prop = county['properties']\n",
    "    prop['color'] = 'hsl(180, 100%, 50%)'\n",
    "    county['properties'] = prop"
   ]
  },
  {
   "cell_type": "code",
   "execution_count": 52,
   "metadata": {},
   "outputs": [],
   "source": [
    "f = open(\"./NYCounties2.json\", \"w\")\n",
    "f.write(str(counties).replace(\"'\", '\"'))\n",
    "f.close()"
   ]
  },
  {
   "cell_type": "code",
   "execution_count": null,
   "metadata": {},
   "outputs": [],
   "source": []
  },
  {
   "cell_type": "markdown",
   "metadata": {},
   "source": [
    "### Outliars."
   ]
  },
  {
   "cell_type": "code",
   "execution_count": 43,
   "metadata": {},
   "outputs": [
    {
     "data": {
      "text/html": [
       "<div>\n",
       "<style scoped>\n",
       "    .dataframe tbody tr th:only-of-type {\n",
       "        vertical-align: middle;\n",
       "    }\n",
       "\n",
       "    .dataframe tbody tr th {\n",
       "        vertical-align: top;\n",
       "    }\n",
       "\n",
       "    .dataframe thead th {\n",
       "        text-align: right;\n",
       "    }\n",
       "</style>\n",
       "<table border=\"1\" class=\"dataframe\">\n",
       "  <thead>\n",
       "    <tr style=\"text-align: right;\">\n",
       "      <th></th>\n",
       "      <th>county_name</th>\n",
       "      <th>age_median</th>\n",
       "      <th>white_ratio</th>\n",
       "      <th>income_per_capita</th>\n",
       "    </tr>\n",
       "  </thead>\n",
       "  <tbody>\n",
       "    <tr>\n",
       "      <th>0</th>\n",
       "      <td>Albany County</td>\n",
       "      <td>37.8</td>\n",
       "      <td>0.767429</td>\n",
       "      <td>19258333</td>\n",
       "    </tr>\n",
       "    <tr>\n",
       "      <th>1</th>\n",
       "      <td>Allegany County</td>\n",
       "      <td>39.0</td>\n",
       "      <td>0.956530</td>\n",
       "      <td>1666839</td>\n",
       "    </tr>\n",
       "    <tr>\n",
       "      <th>2</th>\n",
       "      <td>Bronx County</td>\n",
       "      <td>33.9</td>\n",
       "      <td>0.450644</td>\n",
       "      <td>56318621</td>\n",
       "    </tr>\n",
       "    <tr>\n",
       "      <th>3</th>\n",
       "      <td>Broome County</td>\n",
       "      <td>39.7</td>\n",
       "      <td>0.866888</td>\n",
       "      <td>8831155</td>\n",
       "    </tr>\n",
       "    <tr>\n",
       "      <th>4</th>\n",
       "      <td>Cattaraugus County</td>\n",
       "      <td>41.8</td>\n",
       "      <td>0.922287</td>\n",
       "      <td>3179730</td>\n",
       "    </tr>\n",
       "    <tr>\n",
       "      <th>...</th>\n",
       "      <td>...</td>\n",
       "      <td>...</td>\n",
       "      <td>...</td>\n",
       "      <td>...</td>\n",
       "    </tr>\n",
       "    <tr>\n",
       "      <th>57</th>\n",
       "      <td>Washington County</td>\n",
       "      <td>43.8</td>\n",
       "      <td>0.945335</td>\n",
       "      <td>2581625</td>\n",
       "    </tr>\n",
       "    <tr>\n",
       "      <th>58</th>\n",
       "      <td>Wayne County</td>\n",
       "      <td>43.6</td>\n",
       "      <td>0.937614</td>\n",
       "      <td>4305806</td>\n",
       "    </tr>\n",
       "    <tr>\n",
       "      <th>59</th>\n",
       "      <td>Westchester County</td>\n",
       "      <td>40.9</td>\n",
       "      <td>0.740599</td>\n",
       "      <td>109790050</td>\n",
       "    </tr>\n",
       "    <tr>\n",
       "      <th>60</th>\n",
       "      <td>Wyoming County</td>\n",
       "      <td>42.6</td>\n",
       "      <td>0.923279</td>\n",
       "      <td>1720948</td>\n",
       "    </tr>\n",
       "    <tr>\n",
       "      <th>61</th>\n",
       "      <td>Yates County</td>\n",
       "      <td>41.3</td>\n",
       "      <td>0.969991</td>\n",
       "      <td>1018369</td>\n",
       "    </tr>\n",
       "  </tbody>\n",
       "</table>\n",
       "<p>62 rows × 4 columns</p>\n",
       "</div>"
      ],
      "text/plain": [
       "           county_name  age_median  white_ratio  income_per_capita\n",
       "0        Albany County        37.8     0.767429           19258333\n",
       "1      Allegany County        39.0     0.956530            1666839\n",
       "2         Bronx County        33.9     0.450644           56318621\n",
       "3        Broome County        39.7     0.866888            8831155\n",
       "4   Cattaraugus County        41.8     0.922287            3179730\n",
       "..                 ...         ...          ...                ...\n",
       "57   Washington County        43.8     0.945335            2581625\n",
       "58        Wayne County        43.6     0.937614            4305806\n",
       "59  Westchester County        40.9     0.740599          109790050\n",
       "60      Wyoming County        42.6     0.923279            1720948\n",
       "61        Yates County        41.3     0.969991            1018369\n",
       "\n",
       "[62 rows x 4 columns]"
      ]
     },
     "execution_count": 43,
     "metadata": {},
     "output_type": "execute_result"
    }
   ],
   "source": [
    "data"
   ]
  },
  {
   "cell_type": "code",
   "execution_count": 179,
   "metadata": {},
   "outputs": [
    {
     "name": "stdout",
     "output_type": "stream",
     "text": [
      "\n"
     ]
    },
    {
     "data": {
      "image/png": "[encoded data removed]",
      "text/plain": [
       "<Figure size 432x288 with 1 Axes>"
      ]
     },
     "metadata": {
      "needs_background": "light"
     },
     "output_type": "display_data"
    },
    {
     "name": "stdout",
     "output_type": "stream",
     "text": [
      "\n"
     ]
    },
    {
     "data": {
      "image/png": "[encoded data removed]",
      "text/plain": [
       "<Figure size 432x288 with 1 Axes>"
      ]
     },
     "metadata": {
      "needs_background": "light"
     },
     "output_type": "display_data"
    },
    {
     "name": "stdout",
     "output_type": "stream",
     "text": [
      "\n"
     ]
    },
    {
     "data": {
      "image/png": "[encoded data removed]",
      "text/plain": [
       "<Figure size 432x288 with 1 Axes>"
      ]
     },
     "metadata": {
      "needs_background": "light"
     },
     "output_type": "display_data"
    }
   ],
   "source": [
    "data = pd.read_json('./radviz_demographic_data.json')\n",
    "data.set_index('county_name', inplace = True)\n",
    "dimensions = ['income_per_capita', 'age_median', 'white_ratio']\n",
    "for i, dim in enumerate(dimensions):\n",
    "    mu = data[dim].mean()\n",
    "    sd = data[dim].std()\n",
    "    annotation = \"\"\n",
    "    for sd_away in [2]:\n",
    "        annotation += (\"{} σ, or more:\\n\\n\".format(sd_away))\n",
    "        for county in data[dim].items():\n",
    "            if(abs((county[1] - mu) / sd ) > sd_away):\n",
    "                annotation += (county[0]+'\\n')\n",
    "                \n",
    "        print('')\n",
    "#     plt.subplot(2, 2, i+1)\n",
    "    plt.title(dim.replace('_', ' ').upper(), fontsize=20)\n",
    "    plt.figtext(0.92, 0.3, annotation, fontsize=17)\n",
    "    plt.hist(data[dim])\n",
    "    plt.vlines(x = [(mu - sd), (mu + sd)], ymin=0, ymax=50, color='red')\n",
    "    plt.vlines(x = [(mu - 2*sd),(mu + 2*sd)] , ymin=0, ymax=40, color='green')\n",
    "    plt.vlines(x = [(mu - 3*sd), (mu + 3*sd)], ymin=0, ymax=30, color='purple')\n",
    "    plt.show()"
   ]
  },
  {
   "cell_type": "code",
   "execution_count": null,
   "metadata": {},
   "outputs": [],
   "source": []
  },
  {
   "cell_type": "code",
   "execution_count": null,
   "metadata": {},
   "outputs": [],
   "source": []
  },
  {
   "cell_type": "code",
   "execution_count": null,
   "metadata": {},
   "outputs": [],
   "source": []
  }
 ],
 "metadata": {
  "kernelspec": {
   "display_name": "Python 3",
   "language": "python",
   "name": "python3"
  },
  "language_info": {
   "codemirror_mode": {
    "name": "ipython",
    "version": 3
   },
   "file_extension": ".py",
   "mimetype": "text/x-python",
   "name": "python",
   "nbconvert_exporter": "python",
   "pygments_lexer": "ipython3",
   "version": "3.8.3"
  }
 },
 "nbformat": 4,
 "nbformat_minor": 4
}
