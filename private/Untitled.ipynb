{
 "cells": [
  {
   "cell_type": "code",
   "execution_count": 2,
   "id": "8c03b3ca",
   "metadata": {},
   "outputs": [],
   "source": [
    "import pandas as pd\n",
    "import math"
   ]
  },
  {
   "cell_type": "code",
   "execution_count": 8,
   "id": "c34672cb",
   "metadata": {},
   "outputs": [],
   "source": [
    "class CS():\n",
    "    \n",
    "    def __init__(self, path):\n",
    "        self.data = pd.read_json(path).rename(columns={\"textFloater\": \"id\"}).set_index(\"id\")\n",
    "        \n",
    "        \n",
    "    def get_counties(self):\n",
    "        \n",
    "        ret = []\n",
    "        for county, row in self.data.iterrows():\n",
    "            ret.append(county)\n",
    "        return ret\n",
    "    \n",
    "    def get_data(self):\n",
    "        return self.data\n",
    "    \n",
    "    def get_county_coord(self, county_name):\n",
    "        return self.data.loc[county_name][\"coordinates\"]\n",
    "    \n",
    "    def get_x(self, county_name):\n",
    "        return self.get_county_coord(county_name)['x']\n",
    "    \n",
    "    def get_y(self, county_name):\n",
    "        return self.get_county_coord(county_name)['y']\n",
    "    \n",
    "    def hyp(self, c1, c2):\n",
    "        return math.sqrt((self.get_x(c1) - self.get_x(c2))**2 + (self.get_y(c1) - self.get_y(c2))**2)\n",
    "    \n",
    "    def union(self, lst1, lst2):\n",
    "        return list(set(lst1) | set(lst2))\n",
    "    \n",
    "    def get_in_r(self, county, radius):\n",
    "        resp = []\n",
    "        \n",
    "        for c_id, row in self.data.iterrows():\n",
    "            if county == c_id:\n",
    "                continue\n",
    "            if self.hyp(county, c_id) < radius:\n",
    "                resp.append(c_id)\n",
    "        return resp\n",
    "    \n",
    "    def get_metric(self, selected, target, radius):\n",
    "        lst1 = self.get_in_r(selected, radius)\n",
    "        lst2 = self.get_in_r(target, radius)\n",
    "        \n",
    "        u = self.union(lst1, lst2)\n",
    "        h = self.hyp(selected, target)\n",
    "        return len(u) / h\n",
    "    \n",
    "cs = CS('./DataCoordinates/radviz_ny_coordinates.json')"
   ]
  },
  {
   "cell_type": "code",
   "execution_count": 22,
   "id": "c0f242e3",
   "metadata": {},
   "outputs": [
    {
     "data": {
      "text/plain": [
       "36.62365933313859"
      ]
     },
     "execution_count": 22,
     "metadata": {},
     "output_type": "execute_result"
    }
   ],
   "source": [
    "# Bad\n",
    "cs.get_metric('New York County', 'Tompkins County', 0.5)"
   ]
  },
  {
   "cell_type": "code",
   "execution_count": 23,
   "id": "0ec780ae",
   "metadata": {},
   "outputs": [
    {
     "data": {
      "text/plain": [
       "33.45906293847458"
      ]
     },
     "execution_count": 23,
     "metadata": {},
     "output_type": "execute_result"
    }
   ],
   "source": [
    "cs.get_metric('New York County', 'Westchester County', 0.5)"
   ]
  },
  {
   "cell_type": "code",
   "execution_count": 6,
   "id": "0bb397ee",
   "metadata": {},
   "outputs": [
    {
     "data": {
      "text/plain": [
       "['Albany County',\n",
       " 'Allegany County',\n",
       " 'Bronx County',\n",
       " 'Broome County',\n",
       " 'Cattaraugus County',\n",
       " 'Cayuga County',\n",
       " 'Chautauqua County',\n",
       " 'Chemung County',\n",
       " 'Chenango County',\n",
       " 'Clinton County',\n",
       " 'Columbia County',\n",
       " 'Cortland County',\n",
       " 'Delaware County',\n",
       " 'Dutchess County',\n",
       " 'Erie County',\n",
       " 'Essex County',\n",
       " 'Franklin County',\n",
       " 'Fulton County',\n",
       " 'Genesee County',\n",
       " 'Greene County',\n",
       " 'Hamilton County',\n",
       " 'Herkimer County',\n",
       " 'Jefferson County',\n",
       " 'Kings County',\n",
       " 'Lewis County',\n",
       " 'Livingston County',\n",
       " 'Madison County',\n",
       " 'Monroe County',\n",
       " 'Montgomery County',\n",
       " 'Nassau County',\n",
       " 'New York County',\n",
       " 'Niagara County',\n",
       " 'Oneida County',\n",
       " 'Onondaga County',\n",
       " 'Ontario County',\n",
       " 'Orange County',\n",
       " 'Orleans County',\n",
       " 'Oswego County',\n",
       " 'Otsego County',\n",
       " 'Putnam County',\n",
       " 'Queens County',\n",
       " 'Rensselaer County',\n",
       " 'Richmond County',\n",
       " 'Rockland County',\n",
       " 'St. Lawrence County',\n",
       " 'Saratoga County',\n",
       " 'Schenectady County',\n",
       " 'Schoharie County',\n",
       " 'Schuyler County',\n",
       " 'Seneca County',\n",
       " 'Steuben County',\n",
       " 'Suffolk County',\n",
       " 'Sullivan County',\n",
       " 'Tioga County',\n",
       " 'Tompkins County',\n",
       " 'Ulster County',\n",
       " 'Warren County',\n",
       " 'Washington County',\n",
       " 'Wayne County',\n",
       " 'Westchester County',\n",
       " 'Wyoming County',\n",
       " 'Yates County']"
      ]
     },
     "execution_count": 6,
     "metadata": {},
     "output_type": "execute_result"
    }
   ],
   "source": [
    "cs.get_counties()"
   ]
  }
 ],
 "metadata": {
  "kernelspec": {
   "display_name": "Python 3 (ipykernel)",
   "language": "python",
   "name": "python3"
  },
  "language_info": {
   "codemirror_mode": {
    "name": "ipython",
    "version": 3
   },
   "file_extension": ".py",
   "mimetype": "text/x-python",
   "name": "python",
   "nbconvert_exporter": "python",
   "pygments_lexer": "ipython3",
   "version": "3.9.7"
  }
 },
 "nbformat": 4,
 "nbformat_minor": 5
}
